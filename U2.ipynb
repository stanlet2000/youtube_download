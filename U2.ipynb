{
  "cells": [
    {
      "cell_type": "code",
      "execution_count": 6,
      "metadata": {
        "id": "_uczk2eE-N8j"
      },
      "outputs": [],
      "source": [
        "from moviepy.editor import VideoFileClip, AudioFileClip\n",
        "from yt_dlp import YoutubeDL\n",
        "import os\n",
        "import re"
      ]
    },
    {
      "cell_type": "code",
      "execution_count": 7,
      "metadata": {
        "id": "MIfw_FBtIOH8"
      },
      "outputs": [],
      "source": [
        "def sanitize_filename(filename):\n",
        "    return re.sub(r'[\\\\/*?:\"<>|]', \"\", filename)"
      ]
    },
    {
      "cell_type": "code",
      "execution_count": 20,
      "metadata": {
        "id": "10cB3hZW9wbW"
      },
      "outputs": [],
      "source": [
        "def download_youtube_video(url, output_path, convert_to='mp4'):\n",
        "    # 下载视频\n",
        "    ydl_opts = {\n",
        "        'format': 'bestvideo+bestaudio/best',\n",
        "        'outtmpl': os.path.join(output_path, '%(id)s.%(ext)s'),\n",
        "        'merge_output_format': 'mp4',\n",
        "    }\n",
        "    with YoutubeDL(ydl_opts) as ydl:\n",
        "        info_dict = ydl.extract_info(url, download=True)\n",
        "        video_id = info_dict.get('id', None)\n",
        "        video_title = info_dict.get('title', None)\n",
        "        video_ext = info_dict.get('ext', None)\n",
        "        downloaded_file_path = os.path.join(output_path, f\"{video_id}.{video_ext}\")\n",
        "        sanitized_title = sanitize_filename(video_title)\n",
        "        new_file_path = os.path.join(output_path, f\"{sanitized_title}.{video_ext}\")\n",
        "        os.rename(downloaded_file_path, new_file_path)\n",
        "\n",
        "\n",
        "    print(f\"Downloaded file path: {new_file_path}\")\n",
        "\n",
        "    if not os.path.exists(new_file_path):\n",
        "        print(f\"Error: Downloaded file not found at {new_file_path}\")\n",
        "        return  # Exit the function if the file is not found\n",
        "\n",
        "    if convert_to == 'mp3':\n",
        "        # 转换为 mp3\n",
        "        video_clip = VideoFileClip(new_file_path)\n",
        "        audio_clip = video_clip.audio\n",
        "        audio_clip.write_audiofile(os.path.join(output_path, f\"{sanitized_title}.mp3\"))\n",
        "        audio_clip.close()\n",
        "        video_clip.close()\n",
        "        # 可选地，删除原始 mp4 文件\n",
        "        os.remove(new_file_path)\n",
        "\n",
        "    print(f\"File downloaded and converted to {convert_to} at {output_path}\")\n"
      ]
    },
    {
      "cell_type": "code",
      "execution_count": 21,
      "metadata": {
        "colab": {
          "base_uri": "https://localhost:8080/"
        },
        "id": "rWO5xSEa-V0f",
        "outputId": "57825bbb-049b-48d0-de75-ba72e801f4e8"
      },
      "outputs": [
        {
          "name": "stdout",
          "output_type": "stream",
          "text": [
            "[youtube] Extracting URL: https://youtu.be/7HgJIAUtICU?si=dTIrJlJoZyU2PTmZ\n",
            "[youtube] 7HgJIAUtICU: Downloading webpage\n",
            "[youtube] 7HgJIAUtICU: Downloading ios player API JSON\n",
            "[youtube] 7HgJIAUtICU: Downloading web creator player API JSON\n",
            "[youtube] 7HgJIAUtICU: Downloading m3u8 information\n",
            "[info] 7HgJIAUtICU: Downloading 1 format(s): 313+251\n",
            "[download] Destination: ./7HgJIAUtICU.f313.webm\n",
            "[download] 100% of  397.99MiB in 00:00:04 at 83.15MiB/s  \n",
            "[download] Destination: ./7HgJIAUtICU.f251.webm\n",
            "[download] 100% of    3.68MiB in 00:00:00 at 42.53MiB/s  \n",
            "[Merger] Merging formats into \"./7HgJIAUtICU.mp4\"\n",
            "Deleting original file ./7HgJIAUtICU.f251.webm (pass -k to keep)\n",
            "Deleting original file ./7HgJIAUtICU.f313.webm (pass -k to keep)\n",
            "Downloaded file path: ./踊り子  Vaundy：MUSIC VIDEO.mp4\n"
          ]
        },
        {
          "name": "stderr",
          "output_type": "stream",
          "text": [
            "chunk:   1%|          | 31/5412 [03:24<9:51:31,  6.60s/it, now=None]"
          ]
        },
        {
          "name": "stdout",
          "output_type": "stream",
          "text": [
            "MoviePy - Writing audio in ./踊り子  Vaundy：MUSIC VIDEO.mp3\n"
          ]
        },
        {
          "name": "stderr",
          "output_type": "stream",
          "text": [
            "\n",
            "chunk:   0%|          | 0/5412 [00:00<?, ?it/s, now=None]\u001b[A\n",
            "chunk:   3%|▎         | 153/5412 [00:00<00:03, 1448.26it/s, now=None]\u001b[A\n",
            "chunk:   6%|▌         | 298/5412 [00:00<00:05, 874.81it/s, now=None] \u001b[A\n",
            "chunk:   7%|▋         | 398/5412 [00:00<00:06, 732.90it/s, now=None]\u001b[A\n",
            "chunk:   9%|▉         | 479/5412 [00:00<00:07, 647.55it/s, now=None]\u001b[A\n",
            "chunk:  10%|█         | 548/5412 [00:00<00:07, 620.30it/s, now=None]\u001b[A\n",
            "chunk:  11%|█▏        | 612/5412 [00:00<00:07, 603.29it/s, now=None]\u001b[A\n",
            "chunk:  12%|█▏        | 674/5412 [00:00<00:07, 604.04it/s, now=None]\u001b[A\n",
            "chunk:  14%|█▎        | 741/5412 [00:01<00:07, 617.66it/s, now=None]\u001b[A\n",
            "chunk:  15%|█▍        | 806/5412 [00:01<00:07, 618.53it/s, now=None]\u001b[A\n",
            "chunk:  16%|█▌        | 869/5412 [00:01<00:07, 614.40it/s, now=None]\u001b[A\n",
            "chunk:  17%|█▋        | 937/5412 [00:01<00:07, 629.91it/s, now=None]\u001b[A\n",
            "chunk:  18%|█▊        | 1001/5412 [00:01<00:07, 628.54it/s, now=None]\u001b[A\n",
            "chunk:  20%|█▉        | 1065/5412 [00:01<00:07, 615.81it/s, now=None]\u001b[A\n",
            "chunk:  21%|██        | 1127/5412 [00:01<00:07, 596.28it/s, now=None]\u001b[A\n",
            "chunk:  22%|██▏       | 1187/5412 [00:01<00:07, 552.85it/s, now=None]\u001b[A\n",
            "chunk:  23%|██▎       | 1243/5412 [00:01<00:07, 544.62it/s, now=None]\u001b[A\n",
            "chunk:  24%|██▍       | 1298/5412 [00:02<00:07, 538.33it/s, now=None]\u001b[A\n",
            "chunk:  25%|██▌       | 1353/5412 [00:02<00:07, 533.52it/s, now=None]\u001b[A\n",
            "chunk:  26%|██▌       | 1414/5412 [00:02<00:07, 555.05it/s, now=None]\u001b[A\n",
            "chunk:  27%|██▋       | 1476/5412 [00:02<00:06, 570.73it/s, now=None]\u001b[A\n",
            "chunk:  28%|██▊       | 1534/5412 [00:02<00:07, 551.94it/s, now=None]\u001b[A\n",
            "chunk:  29%|██▉       | 1596/5412 [00:02<00:06, 571.05it/s, now=None]\u001b[A\n",
            "chunk:  31%|███       | 1656/5412 [00:02<00:06, 576.51it/s, now=None]\u001b[A\n",
            "chunk:  32%|███▏      | 1714/5412 [00:02<00:06, 557.57it/s, now=None]\u001b[A\n",
            "chunk:  33%|███▎      | 1770/5412 [00:02<00:06, 540.18it/s, now=None]\u001b[A\n",
            "chunk:  34%|███▍      | 1833/5412 [00:03<00:06, 552.86it/s, now=None]\u001b[A\n",
            "chunk:  35%|███▍      | 1889/5412 [00:03<00:06, 528.13it/s, now=None]\u001b[A\n",
            "chunk:  36%|███▋      | 1962/5412 [00:03<00:05, 577.73it/s, now=None]\u001b[A\n",
            "chunk:  37%|███▋      | 2026/5412 [00:03<00:05, 591.26it/s, now=None]\u001b[A\n",
            "chunk:  39%|███▊      | 2088/5412 [00:03<00:05, 597.45it/s, now=None]\u001b[A\n",
            "chunk:  40%|███▉      | 2149/5412 [00:03<00:05, 594.74it/s, now=None]\u001b[A\n",
            "chunk:  41%|████      | 2217/5412 [00:03<00:05, 609.82it/s, now=None]\u001b[A\n",
            "chunk:  42%|████▏     | 2286/5412 [00:03<00:04, 630.82it/s, now=None]\u001b[A\n",
            "chunk:  43%|████▎     | 2350/5412 [00:03<00:05, 579.06it/s, now=None]\u001b[A\n",
            "chunk:  45%|████▍     | 2418/5412 [00:04<00:04, 604.50it/s, now=None]\u001b[A\n",
            "chunk:  46%|████▌     | 2480/5412 [00:04<00:04, 596.77it/s, now=None]\u001b[A\n",
            "chunk:  47%|████▋     | 2546/5412 [00:04<00:04, 614.66it/s, now=None]\u001b[A\n",
            "chunk:  48%|████▊     | 2608/5412 [00:04<00:04, 594.18it/s, now=None]\u001b[A\n",
            "chunk:  49%|████▉     | 2668/5412 [00:04<00:04, 594.68it/s, now=None]\u001b[A\n",
            "chunk:  50%|█████     | 2728/5412 [00:04<00:04, 595.97it/s, now=None]\u001b[A\n",
            "chunk:  52%|█████▏    | 2788/5412 [00:04<00:04, 593.51it/s, now=None]\u001b[A\n",
            "chunk:  53%|█████▎    | 2849/5412 [00:04<00:04, 596.90it/s, now=None]\u001b[A\n",
            "chunk:  54%|█████▍    | 2909/5412 [00:04<00:04, 541.32it/s, now=None]\u001b[A\n",
            "chunk:  55%|█████▍    | 2965/5412 [00:04<00:04, 531.99it/s, now=None]\u001b[A\n",
            "chunk:  56%|█████▌    | 3029/5412 [00:05<00:04, 556.75it/s, now=None]\u001b[A\n",
            "chunk:  57%|█████▋    | 3086/5412 [00:05<00:04, 541.49it/s, now=None]\u001b[A\n",
            "chunk:  58%|█████▊    | 3147/5412 [00:05<00:04, 559.15it/s, now=None]\u001b[A\n",
            "chunk:  59%|█████▉    | 3213/5412 [00:05<00:03, 573.04it/s, now=None]\u001b[A\n",
            "chunk:  61%|██████    | 3291/5412 [00:05<00:03, 628.18it/s, now=None]\u001b[A\n",
            "chunk:  62%|██████▏   | 3360/5412 [00:05<00:03, 641.38it/s, now=None]\u001b[A\n",
            "chunk:  63%|██████▎   | 3425/5412 [00:05<00:03, 626.79it/s, now=None]\u001b[A\n",
            "chunk:  64%|██████▍   | 3488/5412 [00:05<00:03, 611.19it/s, now=None]\u001b[A\n",
            "chunk:  66%|██████▌   | 3550/5412 [00:05<00:03, 586.86it/s, now=None]\u001b[A\n",
            "chunk:  67%|██████▋   | 3614/5412 [00:06<00:02, 601.35it/s, now=None]\u001b[A\n",
            "chunk:  68%|██████▊   | 3675/5412 [00:06<00:03, 573.86it/s, now=None]\u001b[A\n",
            "chunk:  69%|██████▉   | 3747/5412 [00:06<00:02, 609.47it/s, now=None]\u001b[A\n",
            "chunk:  70%|███████   | 3810/5412 [00:06<00:02, 615.11it/s, now=None]\u001b[A\n",
            "chunk:  72%|███████▏  | 3873/5412 [00:06<00:02, 613.45it/s, now=None]\u001b[A\n",
            "chunk:  73%|███████▎  | 3935/5412 [00:06<00:02, 599.91it/s, now=None]\u001b[A\n",
            "chunk:  74%|███████▍  | 3996/5412 [00:06<00:02, 600.16it/s, now=None]\u001b[A\n",
            "chunk:  75%|███████▍  | 4058/5412 [00:06<00:02, 600.51it/s, now=None]\u001b[A\n",
            "chunk:  76%|███████▌  | 4119/5412 [00:06<00:02, 552.21it/s, now=None]\u001b[A\n",
            "chunk:  77%|███████▋  | 4175/5412 [00:07<00:02, 553.53it/s, now=None]\u001b[A\n",
            "chunk:  78%|███████▊  | 4233/5412 [00:07<00:02, 539.78it/s, now=None]\u001b[A\n",
            "chunk:  79%|███████▉  | 4288/5412 [00:07<00:02, 532.65it/s, now=None]\u001b[A\n",
            "chunk:  81%|████████  | 4357/5412 [00:07<00:01, 572.15it/s, now=None]\u001b[A\n",
            "chunk:  82%|████████▏ | 4421/5412 [00:07<00:01, 587.26it/s, now=None]\u001b[A\n",
            "chunk:  83%|████████▎ | 4486/5412 [00:07<00:01, 603.45it/s, now=None]\u001b[A\n",
            "chunk:  84%|████████▍ | 4547/5412 [00:07<00:01, 578.38it/s, now=None]\u001b[A\n",
            "chunk:  85%|████████▌ | 4607/5412 [00:07<00:01, 583.01it/s, now=None]\u001b[A\n",
            "chunk:  86%|████████▌ | 4666/5412 [00:07<00:01, 560.16it/s, now=None]\u001b[A\n",
            "chunk:  87%|████████▋ | 4723/5412 [00:07<00:01, 549.19it/s, now=None]\u001b[A\n",
            "chunk:  88%|████████▊ | 4787/5412 [00:08<00:01, 570.36it/s, now=None]\u001b[A\n",
            "chunk:  90%|████████▉ | 4845/5412 [00:08<00:01, 555.48it/s, now=None]\u001b[A\n",
            "chunk:  91%|█████████ | 4901/5412 [00:08<00:00, 541.12it/s, now=None]\u001b[A\n",
            "chunk:  92%|█████████▏| 4967/5412 [00:08<00:00, 574.37it/s, now=None]\u001b[A\n",
            "chunk:  93%|█████████▎| 5027/5412 [00:08<00:00, 581.43it/s, now=None]\u001b[A\n",
            "chunk:  94%|█████████▍| 5086/5412 [00:08<00:00, 582.95it/s, now=None]\u001b[A\n",
            "chunk:  95%|█████████▌| 5151/5412 [00:08<00:00, 578.84it/s, now=None]\u001b[A\n",
            "chunk:  96%|█████████▋| 5210/5412 [00:08<00:00, 517.16it/s, now=None]\u001b[A\n",
            "chunk:  97%|█████████▋| 5263/5412 [00:08<00:00, 514.27it/s, now=None]\u001b[A\n",
            "chunk:  98%|█████████▊| 5316/5412 [00:09<00:00, 515.58it/s, now=None]\u001b[A\n",
            "chunk:  99%|█████████▉| 5380/5412 [00:09<00:00, 542.80it/s, now=None]\u001b[A\n",
            "chunk:   1%|          | 31/5412 [03:33<10:18:13,  6.89s/it, now=None]"
          ]
        },
        {
          "name": "stdout",
          "output_type": "stream",
          "text": [
            "MoviePy - Done.\n",
            "File downloaded and converted to mp3 at ./\n"
          ]
        }
      ],
      "source": [
        "# Example usage\n",
        "download_youtube_video('https://youtu.be/7HgJIAUtICU?si=dTIrJlJoZyU2PTmZ', './', convert_to='mp3')\n"
      ]
    },
    {
      "cell_type": "code",
      "execution_count": null,
      "metadata": {
        "id": "E6Rc9iGEOov5"
      },
      "outputs": [],
      "source": []
    }
  ],
  "metadata": {
    "colab": {
      "provenance": []
    },
    "kernelspec": {
      "display_name": "Python 3",
      "name": "python3"
    },
    "language_info": {
      "name": "python",
      "version": "3.12.3"
    }
  },
  "nbformat": 4,
  "nbformat_minor": 0
}
